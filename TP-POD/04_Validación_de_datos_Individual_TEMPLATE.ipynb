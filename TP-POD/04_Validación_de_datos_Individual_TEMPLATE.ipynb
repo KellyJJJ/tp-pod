{
  "nbformat": 4,
  "nbformat_minor": 0,
  "metadata": {
    "colab": {
      "provenance": [],
      "include_colab_link": true
    },
    "kernelspec": {
      "name": "python3",
      "display_name": "Python 3"
    },
    "language_info": {
      "name": "python"
    }
  },
  "cells": [
    {
      "cell_type": "markdown",
      "metadata": {
        "id": "view-in-github",
        "colab_type": "text"
      },
      "source": [
        "<a href=\"https://colab.research.google.com/github/KellyJJJ/tp-pod/blob/main/TP-POD/04_Validaci%C3%B3n_de_datos_Individual_TEMPLATE.ipynb\" target=\"_parent\"><img src=\"https://colab.research.google.com/assets/colab-badge.svg\" alt=\"Open In Colab\"/></a>"
      ]
    },
    {
      "cell_type": "markdown",
      "source": [
        "*   **Año:** 1ER AÑO\n",
        "*   **Alumno/a:** KELLY JIMÉNEZ\n",
        "*   **Legajo:** 96206730"
      ],
      "metadata": {
        "id": "UwxQU5JCF33j"
      }
    },
    {
      "cell_type": "markdown",
      "source": [
        "# Pydantic\n",
        "Pydantic es una libreria rapida y extensible que nos permite validar datos usando tipos de datos de Python.\n"
      ],
      "metadata": {
        "id": "8ec8DQdbWQfC"
      }
    },
    {
      "cell_type": "markdown",
      "source": [
        "Primero, importe `pydantic`."
      ],
      "metadata": {
        "id": "uF01w4AQcrtV"
      }
    },
    {
      "cell_type": "code",
      "source": [
        "import pydantic"
      ],
      "metadata": {
        "id": "4WPUcwU_c5n2"
      },
      "execution_count": null,
      "outputs": []
    },
    {
      "cell_type": "markdown",
      "source": [
        "Supongamos que tenemos una lista de clientes (llamemoslo en el codigo `Client`). Los clientes tienen dos campos: DNI (un entero) y nacionalidad (un `string`). Cree el modelo base de `Client` (en forma de clases de Python)."
      ],
      "metadata": {
        "id": "eC8fpbQ04GzX"
      }
    },
    {
      "cell_type": "code",
      "source": [
        "from pydantic import BaseModel\n",
        "\n",
        "class Client(BaseModel):\n",
        "    dni: int\n",
        "    nationality: str"
      ],
      "metadata": {
        "id": "I4zJ7s_k4GkI"
      },
      "execution_count": null,
      "outputs": []
    },
    {
      "cell_type": "markdown",
      "source": [
        "Cree a un usuario con documento 39.755.010 y nacionalidad 'Argentina'. Muestre todos sus campos."
      ],
      "metadata": {
        "id": "zas-XX4r4SeP"
      }
    },
    {
      "cell_type": "code",
      "source": [
        "client = Client(dni=39755010, nationality=\"Argentina\")\n",
        "print(client)"
      ],
      "metadata": {
        "id": "_DhtCWhr4ST9",
        "colab": {
          "base_uri": "https://localhost:8080/"
        },
        "outputId": "066635e2-723b-4439-e195-57903bf3fa3d"
      },
      "execution_count": null,
      "outputs": [
        {
          "output_type": "stream",
          "name": "stdout",
          "text": [
            "dni=39755010 nationality='Argentina'\n"
          ]
        }
      ]
    },
    {
      "cell_type": "markdown",
      "source": [
        "Intente crear al usuario con un documento en forma de `string`. Deberia fallar..."
      ],
      "metadata": {
        "id": "ejbn5RSH4S_W"
      }
    },
    {
      "cell_type": "code",
      "source": [
        "client1 = Client(dni=str(39755010), nationality=\"Argentina\")\n",
        "print(client1)\n",
        "\n",
        "#Probé primero dejando los números entre comillas (dni=\"39755010\"), y no fallaba."
      ],
      "metadata": {
        "id": "OMPq8C1C4Su3"
      },
      "execution_count": null,
      "outputs": []
    },
    {
      "cell_type": "markdown",
      "source": [
        "Hemos detectado que ciertos clientes tienen nacionalidades que no existen. Ademas, hay numeros de documento negativos y se tiene que poder agregar la fecha de registro de los clientes (que no pueden ser del futuro). Cambiar la definicion del cliente para que estas cosas no ocurran. Despues de la siguiente celda, cree otras 3 mas probando un caso donde deberia funcionar y otros dos en los que no."
      ],
      "metadata": {
        "id": "jARZRMfe6MPE"
      }
    },
    {
      "cell_type": "code",
      "source": [
        "from pydantic import validator\n",
        "from datetime import date\n",
        "\n",
        "nacionalidades = [\"Argentina\", \"Colombiana\", \"Venezolana\", \"Dominicana\", \"Paraguaya\"] #etc\n",
        "\n",
        "class Client(BaseModel):\n",
        "    dni: int\n",
        "    nacionalidad: str\n",
        "    fecha: date\n",
        "\n",
        "    @validator('dni')\n",
        "    def dniPositivo(cls, i):\n",
        "        if i <= 0:\n",
        "            raise ValueError(\"El DNI debe ser un número positivo\")\n",
        "        return i\n",
        "\n",
        "    @validator('nacionalidad')\n",
        "    def nacionalidadV(cls, n):\n",
        "        if n not in nacionalidades:\n",
        "            raise ValueError(\"Nacionalidad no es válida\")\n",
        "        return n\n",
        "\n",
        "    @validator('fecha')\n",
        "    def fechaValida(cls, x):\n",
        "        if x > date.today():\n",
        "            raise ValueError(\"La fecha no es válida\")\n",
        "        return x"
      ],
      "metadata": {
        "id": "JWsWZZPH6NFv",
        "colab": {
          "base_uri": "https://localhost:8080/"
        },
        "outputId": "2b198d87-2fda-4a20-e33d-a03f9253c365"
      },
      "execution_count": null,
      "outputs": [
        {
          "output_type": "stream",
          "name": "stderr",
          "text": [
            "<ipython-input-9-691bc81cc421>:11: PydanticDeprecatedSince20: Pydantic V1 style `@validator` validators are deprecated. You should migrate to Pydantic V2 style `@field_validator` validators, see the migration guide for more details. Deprecated in Pydantic V2.0 to be removed in V3.0. See Pydantic V2 Migration Guide at https://errors.pydantic.dev/2.9/migration/\n",
            "  @validator('dni')\n",
            "<ipython-input-9-691bc81cc421>:17: PydanticDeprecatedSince20: Pydantic V1 style `@validator` validators are deprecated. You should migrate to Pydantic V2 style `@field_validator` validators, see the migration guide for more details. Deprecated in Pydantic V2.0 to be removed in V3.0. See Pydantic V2 Migration Guide at https://errors.pydantic.dev/2.9/migration/\n",
            "  @validator('nacionalidad')\n",
            "<ipython-input-9-691bc81cc421>:23: PydanticDeprecatedSince20: Pydantic V1 style `@validator` validators are deprecated. You should migrate to Pydantic V2 style `@field_validator` validators, see the migration guide for more details. Deprecated in Pydantic V2.0 to be removed in V3.0. See Pydantic V2 Migration Guide at https://errors.pydantic.dev/2.9/migration/\n",
            "  @validator('fecha')\n"
          ]
        }
      ]
    },
    {
      "cell_type": "code",
      "source": [
        "try:\n",
        "    client2 = Client(dni=12345678, nacionalidad=\"Argentina\", fecha=date(2024, 10, 19))\n",
        "except ValueError as e:\n",
        "    print(e)\n"
      ],
      "metadata": {
        "id": "sWyLaqoC7QUK"
      },
      "execution_count": null,
      "outputs": []
    },
    {
      "cell_type": "code",
      "source": [
        "try:\n",
        "    client8 = Client(dni=-12345678, nacionalidad=\"Argentina\", fecha=date(2024, 10, 19))\n",
        "except ValueError as e:\n",
        "    print(e)\n"
      ],
      "metadata": {
        "id": "E6h_7zb77QhN",
        "colab": {
          "base_uri": "https://localhost:8080/"
        },
        "outputId": "58087cce-1346-4c6c-b4ae-6beaa86681a8"
      },
      "execution_count": null,
      "outputs": [
        {
          "output_type": "stream",
          "name": "stdout",
          "text": [
            "1 validation error for Client\n",
            "dni\n",
            "  Value error, El DNI debe ser un número positivo [type=value_error, input_value=-12345678, input_type=int]\n",
            "    For further information visit https://errors.pydantic.dev/2.9/v/value_error\n"
          ]
        }
      ]
    },
    {
      "cell_type": "code",
      "source": [
        "try:\n",
        "    client5 = Client(dni=12345678, nationality=\"Bosnia\", registration_date=date(2030, 10, 19))\n",
        "except ValueError as e:\n",
        "    print(e)"
      ],
      "metadata": {
        "id": "MtDGMxri7R_O",
        "colab": {
          "base_uri": "https://localhost:8080/"
        },
        "outputId": "e4a2bdb2-05c8-49bf-9e75-418bb074dad6"
      },
      "execution_count": null,
      "outputs": [
        {
          "output_type": "stream",
          "name": "stdout",
          "text": [
            "2 validation errors for Client\n",
            "nacionalidad\n",
            "  Field required [type=missing, input_value={'dni': 12345678, 'nation...time.date(2030, 10, 19)}, input_type=dict]\n",
            "    For further information visit https://errors.pydantic.dev/2.9/v/missing\n",
            "fecha\n",
            "  Field required [type=missing, input_value={'dni': 12345678, 'nation...time.date(2030, 10, 19)}, input_type=dict]\n",
            "    For further information visit https://errors.pydantic.dev/2.9/v/missing\n"
          ]
        }
      ]
    },
    {
      "cell_type": "markdown",
      "source": [
        "# Pandera\n",
        "Hacer lo que se pidio en la ultima celda anterior, pero con Pandera."
      ],
      "metadata": {
        "id": "79P3MNuZ8-t3"
      }
    },
    {
      "cell_type": "code",
      "source": [
        "# No me salió."
      ],
      "metadata": {
        "id": "z3DJDdci8-BP"
      },
      "execution_count": null,
      "outputs": []
    }
  ]
}