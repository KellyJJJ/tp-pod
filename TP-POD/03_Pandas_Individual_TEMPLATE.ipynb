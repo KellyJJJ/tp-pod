{
  "nbformat": 4,
  "nbformat_minor": 0,
  "metadata": {
    "colab": {
      "provenance": [],
      "collapsed_sections": [
        "8ec8DQdbWQfC",
        "x6s9aanXAp4G",
        "uf4NRwyMCKbg"
      ],
      "include_colab_link": true
    },
    "kernelspec": {
      "name": "python3",
      "display_name": "Python 3"
    },
    "language_info": {
      "name": "python"
    }
  },
  "cells": [
    {
      "cell_type": "markdown",
      "metadata": {
        "id": "view-in-github",
        "colab_type": "text"
      },
      "source": [
        "<a href=\"https://colab.research.google.com/github/KellyJJJ/tp-pod/blob/main/TP-POD/03_Pandas_Individual_TEMPLATE.ipynb\" target=\"_parent\"><img src=\"https://colab.research.google.com/assets/colab-badge.svg\" alt=\"Open In Colab\"/></a>"
      ]
    },
    {
      "cell_type": "markdown",
      "source": [
        "* **Año:** 1ero\n",
        "*   **Alumno/a:** Jiménez Kelly\n",
        "*   **Legajo:** 96206730"
      ],
      "metadata": {
        "id": "UwxQU5JCF33j"
      }
    },
    {
      "cell_type": "markdown",
      "source": [
        "# Pandas\n",
        "A continuación, cada celda va a pedir algo distinto. Por favor, realizarlo con la menor cantidad de lineas posibles y con NumPy.\n"
      ],
      "metadata": {
        "id": "8ec8DQdbWQfC"
      }
    },
    {
      "cell_type": "markdown",
      "source": [
        "Importar `pandas` con el alias `pd` e imprimir la versión instalada."
      ],
      "metadata": {
        "id": "uF01w4AQcrtV"
      }
    },
    {
      "cell_type": "code",
      "source": [
        "import pandas as pd\n",
        "\n",
        "print(pd.__version__)"
      ],
      "metadata": {
        "id": "4WPUcwU_c5n2",
        "colab": {
          "base_uri": "https://localhost:8080/"
        },
        "outputId": "8cfd1cda-275e-4437-a5f2-f4c955046be6"
      },
      "execution_count": null,
      "outputs": [
        {
          "output_type": "stream",
          "name": "stdout",
          "text": [
            "2.2.2\n"
          ]
        }
      ]
    },
    {
      "cell_type": "markdown",
      "source": [
        "Crear la siguiente tabla como un dataframe de Pandas donde cada linea represente un diccionario.\n",
        "\n",
        "| _Index_ | **nombre**       | **edad** | **dni**  |\n",
        "|---------|------------------|----------|----------|\n",
        "| 9       | Brown, James     | 43       | 30123444 |\n",
        "| 3       | Hamkel, Louis V. | 29       | 44555666 |\n",
        "| 7       | Baptista, Carlos | 28       | 43120111 |"
      ],
      "metadata": {
        "id": "eC8fpbQ04GzX"
      }
    },
    {
      "cell_type": "code",
      "source": [
        "tabla = [\n",
        "    {\"Index\": 9, \"nombre\": \"Brown, James\", \"edad\": 43, \"dni\": 30123444},\n",
        "    {\"Index\": 3, \"nombre\": \"Hamkel, Louis V.\", \"edad\": 29, \"dni\": 44555666},\n",
        "    {\"Index\": 7, \"nombre\": \"Baptista, Carlos\", \"edad\": 28, \"dni\": 43120111}\n",
        "]\n",
        "\n",
        "df = pd.DataFrame(tabla)\n",
        "df.set_index(\"Index\", inplace=True)\n",
        "print (df)"
      ],
      "metadata": {
        "id": "I4zJ7s_k4GkI",
        "colab": {
          "base_uri": "https://localhost:8080/"
        },
        "outputId": "3aa8182f-cd0a-4898-f100-356f0ef89a42"
      },
      "execution_count": null,
      "outputs": [
        {
          "output_type": "stream",
          "name": "stdout",
          "text": [
            "                 nombre  edad       dni\n",
            "Index                                  \n",
            "9          Brown, James    43  30123444\n",
            "3      Hamkel, Louis V.    29  44555666\n",
            "7      Baptista, Carlos    28  43120111\n"
          ]
        }
      ]
    },
    {
      "cell_type": "markdown",
      "source": [
        "Crear la siguiente tabla como un dataframe de Pandas donde todas las lineas esten dentro de un solo diccionario.\n",
        "\n",
        "| _Index_ | **nombre**       | **edad** | **dni**  |\n",
        "|---------|------------------|----------|----------|\n",
        "| 9       | Brown, James     | 43       | 30123444 |\n",
        "| 3       | Hamkel, Louis V. | 29       | 44555666 |\n",
        "| 7       | Baptista, Carlos | 28       | 43120111 |"
      ],
      "metadata": {
        "id": "zas-XX4r4SeP"
      }
    },
    {
      "cell_type": "code",
      "source": [
        "tabla = {\n",
        "    \"Index\": [9, 3, 7],\n",
        "    \"nombre\": [\"Brown, James\", \"Hamkel, Louis V.\", \"Baptista, Carlos\"],\n",
        "    \"edad\": [43, 29, 28],\n",
        "    \"dni\": [30123444, 44555666, 43120111]\n",
        "}\n",
        "\n",
        "df = pd.DataFrame(tabla)\n",
        "df.set_index(\"Index\", inplace=True)\n"
      ],
      "metadata": {
        "id": "_DhtCWhr4ST9"
      },
      "execution_count": null,
      "outputs": []
    },
    {
      "cell_type": "markdown",
      "source": [
        "Crear la siguiente tabla como un dataframe de Pandas donde se usen unicamente listas.\n",
        "\n",
        "| _Index_ | **nombre**       | **edad** | **dni**  |\n",
        "|---------|------------------|----------|----------|\n",
        "| 9       | Brown, James     | 43       | 30123444 |\n",
        "| 3       | Hamkel, Louis V. | 29       | 44555666 |\n",
        "| 7       | Baptista, Carlos | 28       | 43120111 |"
      ],
      "metadata": {
        "id": "ejbn5RSH4S_W"
      }
    },
    {
      "cell_type": "code",
      "source": [
        "tabla = [\n",
        "    [9, \"Brown, James\", 43, 30123444],\n",
        "    [3, \"Hamkel, Louis V.\", 29, 44555666],\n",
        "    [7, \"Baptista, Carlos\", 28, 43120111]\n",
        "]\n",
        "\n",
        "df = pd.DataFrame(tabla, columns=[\"Index\", \"nombre\", \"edad\", \"dni\"])\n",
        "\n",
        "df.set_index(\"Index\", inplace=True)\n",
        "print(df)"
      ],
      "metadata": {
        "id": "OMPq8C1C4Su3",
        "colab": {
          "base_uri": "https://localhost:8080/"
        },
        "outputId": "ba1f35c7-0561-4783-a797-91ade50cd68a"
      },
      "execution_count": null,
      "outputs": [
        {
          "output_type": "stream",
          "name": "stdout",
          "text": [
            "                 nombre  edad       dni\n",
            "Index                                  \n",
            "9          Brown, James    43  30123444\n",
            "3      Hamkel, Louis V.    29  44555666\n",
            "7      Baptista, Carlos    28  43120111\n"
          ]
        }
      ]
    },
    {
      "cell_type": "markdown",
      "source": [
        "Crear la siguiente tabla como un dataframe de Pandas donde se usen unicamente `Series`.\n",
        "\n",
        "| _Index_ | **nombre**       | **edad** | **dni**  |\n",
        "|---------|------------------|----------|----------|\n",
        "| 9       | Brown, James     | 43       | 30123444 |\n",
        "| 3       | Hamkel, Louis V. | 29       | 44555666 |\n",
        "| 7       | Baptista, Carlos | 28       | 43120111 |"
      ],
      "metadata": {
        "id": "dVCeyowLEnJ1"
      }
    },
    {
      "cell_type": "code",
      "source": [
        "index = pd.Series([9, 3, 7], name=\"Index\")\n",
        "nombres = pd.Series([\"Brown, James\", \"Hamkel, Louis V.\", \"Baptista, Carlos\"], name=\"nombre\")\n",
        "edades = pd.Series([43, 29, 28], name=\"edad\")\n",
        "dnis = pd.Series([30123444, 44555666, 43120111], name=\"dni\")\n",
        "\n",
        "df = pd.concat([index, nombres, edades, dnis], axis=1)\n",
        "df.set_index(\"Index\", inplace=True)\n",
        "print(df)"
      ],
      "metadata": {
        "id": "lj0zQr7qEmzj",
        "colab": {
          "base_uri": "https://localhost:8080/"
        },
        "outputId": "338f9074-3530-41d2-b961-837de7a9aae7"
      },
      "execution_count": null,
      "outputs": [
        {
          "output_type": "stream",
          "name": "stdout",
          "text": [
            "                 nombre  edad       dni\n",
            "Index                                  \n",
            "9          Brown, James    43  30123444\n",
            "3      Hamkel, Louis V.    29  44555666\n",
            "7      Baptista, Carlos    28  43120111\n"
          ]
        }
      ]
    },
    {
      "cell_type": "markdown",
      "source": [
        "Reutilice cualquiera de los dataframe hechos anteriormente pero agregue la columna `fecha` con el tipo de dato relacionado a fechas.\n",
        "\n",
        "| _Index_ | **nombre**       | **edad** | **dni**  | **fecha**  |\n",
        "|---------|------------------|----------|----------|------------|\n",
        "| 9       | Brown, James     | 43       | 30123444 | 12/08/1981 |\n",
        "| 3       | Hamkel, Louis V. | 29       | 44555666 | 10/04/1995 |\n",
        "| 7       | Baptista, Carlos | 28       | 43120111 | 28/05/1996 |"
      ],
      "metadata": {
        "id": "oP9dwhSLEnix"
      }
    },
    {
      "cell_type": "code",
      "source": [
        "#########FALTA HACER"
      ],
      "metadata": {
        "id": "lt6ZjIgAFEpT"
      },
      "execution_count": null,
      "outputs": []
    },
    {
      "cell_type": "markdown",
      "source": [
        "Ejecute la siguiente celda. Se va a descargar un archivo llamado `u.user`."
      ],
      "metadata": {
        "id": "X6Y5smKMEn6w"
      }
    },
    {
      "cell_type": "code",
      "source": [
        "!wget https://raw.githubusercontent.com/justmarkham/DAT8/master/data/u.user"
      ],
      "metadata": {
        "id": "3v7G1jWs7rDg",
        "colab": {
          "base_uri": "https://localhost:8080/"
        },
        "outputId": "9db4bdaa-dfe7-4046-ca1a-6411e0714ba1"
      },
      "execution_count": null,
      "outputs": [
        {
          "output_type": "stream",
          "name": "stdout",
          "text": [
            "--2024-11-22 00:37:32--  https://raw.githubusercontent.com/justmarkham/DAT8/master/data/u.user\n",
            "Resolving raw.githubusercontent.com (raw.githubusercontent.com)... 185.199.108.133, 185.199.109.133, 185.199.110.133, ...\n",
            "Connecting to raw.githubusercontent.com (raw.githubusercontent.com)|185.199.108.133|:443... connected.\n",
            "HTTP request sent, awaiting response... 200 OK\n",
            "Length: 22667 (22K) [text/plain]\n",
            "Saving to: ‘u.user’\n",
            "\n",
            "\ru.user                0%[                    ]       0  --.-KB/s               \ru.user              100%[===================>]  22.14K  --.-KB/s    in 0s      \n",
            "\n",
            "2024-11-22 00:37:32 (121 MB/s) - ‘u.user’ saved [22667/22667]\n",
            "\n"
          ]
        }
      ]
    },
    {
      "cell_type": "markdown",
      "source": [
        "Lea el archivo con pandas y muestre las primeras 5 filas."
      ],
      "metadata": {
        "id": "-qRRF8T_72wD"
      }
    },
    {
      "cell_type": "code",
      "source": [
        "archivo = \"u.user\"\n",
        "\n",
        "df = pd.read_csv(archivo, sep='|')\n",
        "\n",
        "print(df.head())"
      ],
      "metadata": {
        "id": "HlPu1a1sEohQ",
        "colab": {
          "base_uri": "https://localhost:8080/"
        },
        "outputId": "2cb1eb12-347f-4135-da34-7833ce893473"
      },
      "execution_count": null,
      "outputs": [
        {
          "output_type": "stream",
          "name": "stdout",
          "text": [
            "   user_id  age gender  occupation zip_code\n",
            "0        1   24      M  technician    85711\n",
            "1        2   53      F       other    94043\n",
            "2        3   23      M      writer    32067\n",
            "3        4   24      M  technician    43537\n",
            "4        5   33      F       other    15213\n"
          ]
        }
      ]
    },
    {
      "cell_type": "markdown",
      "source": [
        "Utilice la columna `user_id` como indice y saque dicha columna del dataframe\n",
        "\n"
      ],
      "metadata": {
        "id": "LsqtwfYc8P6L"
      }
    },
    {
      "cell_type": "code",
      "source": [
        "df.set_index('user_id', inplace=True)\n",
        "\n",
        "print(df.head())"
      ],
      "metadata": {
        "id": "yQs0BtSF8PzU",
        "colab": {
          "base_uri": "https://localhost:8080/"
        },
        "outputId": "69dfbab4-8d51-40fa-84e0-1fe1eb1fd763"
      },
      "execution_count": null,
      "outputs": [
        {
          "output_type": "stream",
          "name": "stdout",
          "text": [
            "         age gender  occupation zip_code\n",
            "user_id                                 \n",
            "1         24      M  technician    85711\n",
            "2         53      F       other    94043\n",
            "3         23      M      writer    32067\n",
            "4         24      M  technician    43537\n",
            "5         33      F       other    15213\n"
          ]
        }
      ]
    },
    {
      "cell_type": "markdown",
      "source": [
        "¿Cuantas categorias de trabajos hay?"
      ],
      "metadata": {
        "id": "_5Cld-VT8PsG"
      }
    },
    {
      "cell_type": "code",
      "source": [
        "cat = df['occupation'].nunique()\n",
        "print(\"Número de categorías de trabajo: \",cat)"
      ],
      "metadata": {
        "id": "TVeQ-jgZ8PlX",
        "colab": {
          "base_uri": "https://localhost:8080/"
        },
        "outputId": "25559c1e-bb24-48b4-c6d8-13e8d31f3943"
      },
      "execution_count": null,
      "outputs": [
        {
          "output_type": "stream",
          "name": "stdout",
          "text": [
            "Número de categorías de trabajo:  21\n"
          ]
        }
      ]
    },
    {
      "cell_type": "markdown",
      "source": [
        "Reporte el porcentaje de personas que tiene cada ocupación."
      ],
      "metadata": {
        "id": "suETYqm28Pba"
      }
    },
    {
      "cell_type": "code",
      "source": [
        "ocupa = df['occupation'].value_counts()\n",
        "ocupaPorc = (ocupa / ocupa.sum()) * 100\n",
        "print(ocupaPorc)"
      ],
      "metadata": {
        "id": "mJFiaURH8PS4",
        "colab": {
          "base_uri": "https://localhost:8080/"
        },
        "outputId": "d719541b-7730-4ba7-a171-2fec19361abf"
      },
      "execution_count": null,
      "outputs": [
        {
          "output_type": "stream",
          "name": "stdout",
          "text": [
            "occupation\n",
            "student          20.784730\n",
            "other            11.134677\n",
            "educator         10.074231\n",
            "administrator     8.377519\n",
            "engineer          7.104984\n",
            "programmer        6.998940\n",
            "librarian         5.408271\n",
            "writer            4.772004\n",
            "executive         3.393425\n",
            "scientist         3.287381\n",
            "artist            2.969247\n",
            "technician        2.863203\n",
            "marketing         2.757158\n",
            "entertainment     1.908802\n",
            "healthcare        1.696713\n",
            "retired           1.484624\n",
            "lawyer            1.272534\n",
            "salesman          1.272534\n",
            "none              0.954401\n",
            "homemaker         0.742312\n",
            "doctor            0.742312\n",
            "Name: count, dtype: float64\n"
          ]
        }
      ]
    },
    {
      "cell_type": "markdown",
      "source": [
        "Reporte el promedio de edad de los estudiantes usando indexeo booleano."
      ],
      "metadata": {
        "id": "OqJ3ufrnEouE"
      }
    },
    {
      "cell_type": "code",
      "source": [
        "est = df[df['occupation'] == 'student']\n",
        "promEdad = est['age'].mean()\n",
        "print(\"Promedio de edad de los estudiantes: \", promEdad)"
      ],
      "metadata": {
        "id": "h9LdQIKZF5Y3",
        "colab": {
          "base_uri": "https://localhost:8080/"
        },
        "outputId": "144836f3-451b-4671-a39f-e4ea0949746e"
      },
      "execution_count": null,
      "outputs": [
        {
          "output_type": "stream",
          "name": "stdout",
          "text": [
            "Promedio de edad de los estudiantes:  22.081632653061224\n"
          ]
        }
      ]
    },
    {
      "cell_type": "markdown",
      "source": [
        "Mostrar, con una sola linea y sin importar `matplotlib`, un histograma de las edades de las personas que son administradores."
      ],
      "metadata": {
        "id": "ECU9-LayF53z"
      }
    },
    {
      "cell_type": "code",
      "source": [
        "df[df['occupation'] == 'administrator']['age'].hist()"
      ],
      "metadata": {
        "id": "qOimVpu0F4el",
        "colab": {
          "base_uri": "https://localhost:8080/",
          "height": 447
        },
        "outputId": "3314db7c-328a-4012-e45e-4316437819d8"
      },
      "execution_count": null,
      "outputs": [
        {
          "output_type": "execute_result",
          "data": {
            "text/plain": [
              "<Axes: >"
            ]
          },
          "metadata": {},
          "execution_count": 19
        },
        {
          "output_type": "display_data",
          "data": {
            "text/plain": [
              "<Figure size 640x480 with 1 Axes>"
            ],
            "image/png": "[encoded data removed]"
          },
          "metadata": {}
        }
      ]
    },
    {
      "cell_type": "markdown",
      "source": [
        "Reemplace, sin usar `for`, en la columna `gender` `F` por `female` y `M` por `male`."
      ],
      "metadata": {
        "id": "mFzSH9D1QHM4"
      }
    },
    {
      "cell_type": "code",
      "source": [
        "df['gender'] = df['gender'].replace({'F': 'female', 'M': 'male'})\n",
        "\n",
        "print(df.head())"
      ],
      "metadata": {
        "id": "SZg2_4AJQHhr",
        "colab": {
          "base_uri": "https://localhost:8080/"
        },
        "outputId": "4b53792e-8126-4833-f479-143d977fbd67"
      },
      "execution_count": null,
      "outputs": [
        {
          "output_type": "stream",
          "name": "stdout",
          "text": [
            "         age  gender  occupation zip_code\n",
            "user_id                                  \n",
            "1         24    male  technician    85711\n",
            "2         53  female       other    94043\n",
            "3         23    male      writer    32067\n",
            "4         24    male  technician    43537\n",
            "5         33  female       other    15213\n"
          ]
        }
      ]
    },
    {
      "cell_type": "markdown",
      "source": [
        "# Yahoo! Finance"
      ],
      "metadata": {
        "id": "x6s9aanXAp4G"
      }
    },
    {
      "cell_type": "markdown",
      "source": [
        "Vamos a analizar acciones. La siguiente linea accede a Yahoo Finance y devuelve un DataFrame con los valores de la acción cada dia desde el 1980."
      ],
      "metadata": {
        "id": "qqBxTaafArYH"
      }
    },
    {
      "cell_type": "code",
      "source": [
        "import yfinance as yf\n",
        "dataframe = yf.download('AAPL', start=\"1980-01-01\", end=\"2030-01-01\")\n"
      ],
      "metadata": {
        "id": "HWJ0fZbfApy6",
        "colab": {
          "base_uri": "https://localhost:8080/"
        },
        "outputId": "b9db81c4-8a6d-4372-c794-4207e41081fe"
      },
      "execution_count": null,
      "outputs": [
        {
          "output_type": "stream",
          "name": "stderr",
          "text": [
            "\r[*********************100%***********************]  1 of 1 completed\n"
          ]
        }
      ]
    },
    {
      "cell_type": "code",
      "source": [
        "print(dataframe.head())"
      ],
      "metadata": {
        "colab": {
          "base_uri": "https://localhost:8080/"
        },
        "outputId": "e0e4a8cd-a14c-48e7-a204-2c481b68a972",
        "id": "mny-UOFl75oz"
      },
      "execution_count": null,
      "outputs": [
        {
          "output_type": "stream",
          "name": "stdout",
          "text": [
            "Price                     Adj Close     Close      High       Low      Open  \\\n",
            "Ticker                         AAPL      AAPL      AAPL      AAPL      AAPL   \n",
            "Date                                                                          \n",
            "1980-12-12 00:00:00+00:00  0.098834  0.128348  0.128906  0.128348  0.128348   \n",
            "1980-12-15 00:00:00+00:00  0.093678  0.121652  0.122210  0.121652  0.122210   \n",
            "1980-12-16 00:00:00+00:00  0.086802  0.112723  0.113281  0.112723  0.113281   \n",
            "1980-12-17 00:00:00+00:00  0.088951  0.115513  0.116071  0.115513  0.115513   \n",
            "1980-12-18 00:00:00+00:00  0.091530  0.118862  0.119420  0.118862  0.118862   \n",
            "\n",
            "Price                         Volume  \n",
            "Ticker                          AAPL  \n",
            "Date                                  \n",
            "1980-12-12 00:00:00+00:00  469033600  \n",
            "1980-12-15 00:00:00+00:00  175884800  \n",
            "1980-12-16 00:00:00+00:00  105728000  \n",
            "1980-12-17 00:00:00+00:00   86441600  \n",
            "1980-12-18 00:00:00+00:00   73449600  \n"
          ]
        }
      ]
    },
    {
      "cell_type": "markdown",
      "source": [
        "¿Cual es el registro mas viejo? Imprimirlo."
      ],
      "metadata": {
        "id": "ikpnKqnPApuG"
      }
    },
    {
      "cell_type": "code",
      "source": [
        "dataframe.sort_index(ascending=True, inplace=True)\n",
        "print(dataframe.head(1))"
      ],
      "metadata": {
        "id": "e56tZ607Appx",
        "colab": {
          "base_uri": "https://localhost:8080/"
        },
        "outputId": "aa294a9a-9ed9-4d78-dec9-c9328af56d28"
      },
      "execution_count": null,
      "outputs": [
        {
          "output_type": "stream",
          "name": "stdout",
          "text": [
            "Price                     Adj Close     Close      High       Low      Open  \\\n",
            "Ticker                         AAPL      AAPL      AAPL      AAPL      AAPL   \n",
            "Date                                                                          \n",
            "1980-12-12 00:00:00+00:00  0.098834  0.128348  0.128906  0.128348  0.128348   \n",
            "\n",
            "Price                         Volume  \n",
            "Ticker                          AAPL  \n",
            "Date                                  \n",
            "1980-12-12 00:00:00+00:00  469033600  \n"
          ]
        }
      ]
    },
    {
      "cell_type": "markdown",
      "source": [
        "Cree la columna `Average` tal que\n",
        "\n",
        "$$Average =  \\frac{High-Low}{2}$$\n",
        "\n",
        "y muestre con un histograma dicha columna."
      ],
      "metadata": {
        "id": "EHHhUvUtApk0"
      }
    },
    {
      "cell_type": "code",
      "source": [
        "dataframe[\"Average\"] = (dataframe['High'] - dataframe['Low']) / 2\n",
        "print(dataframe.head())\n",
        "dataframe[\"Average\"].hist()"
      ],
      "metadata": {
        "id": "-b9g66axApgL",
        "colab": {
          "base_uri": "https://localhost:8080/",
          "height": 742
        },
        "outputId": "d5014c8f-803e-45b3-f6da-78d794e6d304"
      },
      "execution_count": null,
      "outputs": [
        {
          "output_type": "stream",
          "name": "stdout",
          "text": [
            "Price                     Adj Close     Close      High       Low      Open  \\\n",
            "Ticker                         AAPL      AAPL      AAPL      AAPL      AAPL   \n",
            "Date                                                                          \n",
            "1980-12-12 00:00:00+00:00  0.098834  0.128348  0.128906  0.128348  0.128348   \n",
            "1980-12-15 00:00:00+00:00  0.093678  0.121652  0.122210  0.121652  0.122210   \n",
            "1980-12-16 00:00:00+00:00  0.086802  0.112723  0.113281  0.112723  0.113281   \n",
            "1980-12-17 00:00:00+00:00  0.088951  0.115513  0.116071  0.115513  0.115513   \n",
            "1980-12-18 00:00:00+00:00  0.091530  0.118862  0.119420  0.118862  0.118862   \n",
            "\n",
            "Price                         Volume   Average  \n",
            "Ticker                          AAPL            \n",
            "Date                                            \n",
            "1980-12-12 00:00:00+00:00  469033600  0.000279  \n",
            "1980-12-15 00:00:00+00:00  175884800  0.000279  \n",
            "1980-12-16 00:00:00+00:00  105728000  0.000279  \n",
            "1980-12-17 00:00:00+00:00   86441600  0.000279  \n",
            "1980-12-18 00:00:00+00:00   73449600  0.000279  \n"
          ]
        },
        {
          "output_type": "execute_result",
          "data": {
            "text/plain": [
              "<Axes: >"
            ]
          },
          "metadata": {},
          "execution_count": 25
        },
        {
          "output_type": "display_data",
          "data": {
            "text/plain": [
              "<Figure size 640x480 with 1 Axes>"
            ],
            "image/png": "[encoded data removed]"
          },
          "metadata": {}
        }
      ]
    },
    {
      "cell_type": "markdown",
      "source": [
        "Con `matplotlib`, muestre como `Average` fue evolucionando *al final de cada año*."
      ],
      "metadata": {
        "id": "yeZWGXexApbb"
      }
    },
    {
      "cell_type": "code",
      "source": [
        "#hay que utilizar un groupby acà, con un lambda. tail(1)\n",
        "\n",
        "dataframe.groupby(lambda x: x.year).tail(1)[\"Average\"].plot()"
      ],
      "metadata": {
        "id": "oeSb_UegApVZ",
        "colab": {
          "base_uri": "https://localhost:8080/",
          "height": 439
        },
        "outputId": "04fcef82-e07d-4891-deb1-63f60e8225c5"
      },
      "execution_count": null,
      "outputs": [
        {
          "output_type": "execute_result",
          "data": {
            "text/plain": [
              "<Axes: xlabel='Date'>"
            ]
          },
          "metadata": {},
          "execution_count": 26
        },
        {
          "output_type": "display_data",
          "data": {
            "text/plain": [
              "<Figure size 640x480 with 1 Axes>"
            ],
            "image/png": "[encoded data removed]"
          },
          "metadata": {}
        }
      ]
    },
    {
      "cell_type": "markdown",
      "source": [
        "Muestre con un gráfico de barras, como el volumen fue cambiando *año a año*."
      ],
      "metadata": {
        "id": "K1UXxoawApPD"
      }
    },
    {
      "cell_type": "code",
      "source": [
        "dataframe.groupby(lambda x: x.year).tail(1)[\"Volume\"].plot()"
      ],
      "metadata": {
        "id": "4OyausU5ApGJ",
        "colab": {
          "base_uri": "https://localhost:8080/",
          "height": 454
        },
        "outputId": "55bd25fe-dc27-4f21-fecf-d0968dd2c01b"
      },
      "execution_count": null,
      "outputs": [
        {
          "output_type": "execute_result",
          "data": {
            "text/plain": [
              "<Axes: xlabel='Date'>"
            ]
          },
          "metadata": {},
          "execution_count": 28
        },
        {
          "output_type": "display_data",
          "data": {
            "text/plain": [
              "<Figure size 640x480 with 1 Axes>"
            ],
            "image/png": "[encoded data removed]"
          },
          "metadata": {}
        }
      ]
    },
    {
      "cell_type": "markdown",
      "source": [
        "# Cancelaciones y Delays de vuelos del 2015"
      ],
      "metadata": {
        "id": "uf4NRwyMCKbg"
      }
    },
    {
      "cell_type": "markdown",
      "source": [
        "Creese una cuenta en Kaggle e importe los archivos del dataset del siguiente link: https://www.kaggle.com/datasets/usdot/flight-delays. Cree los dataframes `airlines`, `airports`, y `flights` apartir de esos archivos."
      ],
      "metadata": {
        "id": "RoYldCmDCKWJ"
      }
    },
    {
      "cell_type": "code",
      "source": [
        "import kagglehub\n",
        "\n",
        "# Download latest version\n",
        "path = kagglehub.dataset_download(\"usdot/flight-delays\")\n",
        "\n",
        "print(\"Path to dataset files:\", path)\n",
        "\n",
        "\n",
        "#Me pareció más sencillo de esta forma sacar la data de kaggle"
      ],
      "metadata": {
        "id": "pRwfZBNKEFwo",
        "colab": {
          "base_uri": "https://localhost:8080/"
        },
        "outputId": "c73efd7b-7582-453d-a3c1-5f6f7d2cf1ad"
      },
      "execution_count": null,
      "outputs": [
        {
          "output_type": "stream",
          "name": "stdout",
          "text": [
            "Path to dataset files: /root/.cache/kagglehub/datasets/usdot/flight-delays/versions/1\n"
          ]
        }
      ]
    },
    {
      "cell_type": "markdown",
      "source": [
        "Combine (*join*) las tablas `airlines`, `airports`, y `flights` en una sola tabla."
      ],
      "metadata": {
        "id": "PjDZHuvKCKNp"
      }
    },
    {
      "cell_type": "code",
      "source": [
        "airlines = pd.read_csv(path + '/airlines.csv')\n",
        "airports = pd.read_csv(path + '/airports.csv')\n",
        "flights = pd.read_csv(path + '/flights.csv')\n",
        "\n",
        "print(airlines.head())\n",
        "print(airports.head())\n",
        "print(flights.head())\n",
        "\n",
        "# Cuando intenté hacer join, no sé si estaba haciendo algo raro o no, pero me decía que había consumido toda la memoria RAM :(, y no pude."
      ],
      "metadata": {
        "id": "fSpwaXWzCKJ9",
        "colab": {
          "base_uri": "https://localhost:8080/"
        },
        "outputId": "50a11d55-cdd3-4a2c-a5f7-1b470fa47cd0"
      },
      "execution_count": null,
      "outputs": [
        {
          "output_type": "stream",
          "name": "stderr",
          "text": [
            "<ipython-input-9-5bef9208bc34>:3: DtypeWarning: Columns (7,8) have mixed types. Specify dtype option on import or set low_memory=False.\n",
            "  flights = pd.read_csv(path + '/flights.csv')\n"
          ]
        },
        {
          "output_type": "stream",
          "name": "stdout",
          "text": [
            "  IATA_CODE                 AIRLINE\n",
            "0        UA   United Air Lines Inc.\n",
            "1        AA  American Airlines Inc.\n",
            "2        US         US Airways Inc.\n",
            "3        F9  Frontier Airlines Inc.\n",
            "4        B6         JetBlue Airways\n",
            "  IATA_CODE                              AIRPORT         CITY STATE COUNTRY  \\\n",
            "0       ABE  Lehigh Valley International Airport    Allentown    PA     USA   \n",
            "1       ABI             Abilene Regional Airport      Abilene    TX     USA   \n",
            "2       ABQ    Albuquerque International Sunport  Albuquerque    NM     USA   \n",
            "3       ABR            Aberdeen Regional Airport     Aberdeen    SD     USA   \n",
            "4       ABY   Southwest Georgia Regional Airport       Albany    GA     USA   \n",
            "\n",
            "   LATITUDE  LONGITUDE  \n",
            "0  40.65236  -75.44040  \n",
            "1  32.41132  -99.68190  \n",
            "2  35.04022 -106.60919  \n",
            "3  45.44906  -98.42183  \n",
            "4  31.53552  -84.19447  \n",
            "   YEAR  MONTH  DAY  DAY_OF_WEEK AIRLINE  FLIGHT_NUMBER TAIL_NUMBER  \\\n",
            "0  2015      1    1            4      AS             98      N407AS   \n",
            "1  2015      1    1            4      AA           2336      N3KUAA   \n",
            "2  2015      1    1            4      US            840      N171US   \n",
            "3  2015      1    1            4      AA            258      N3HYAA   \n",
            "4  2015      1    1            4      AS            135      N527AS   \n",
            "\n",
            "  ORIGIN_AIRPORT DESTINATION_AIRPORT  SCHEDULED_DEPARTURE  ...  ARRIVAL_TIME  \\\n",
            "0            ANC                 SEA                    5  ...         408.0   \n",
            "1            LAX                 PBI                   10  ...         741.0   \n",
            "2            SFO                 CLT                   20  ...         811.0   \n",
            "3            LAX                 MIA                   20  ...         756.0   \n",
            "4            SEA                 ANC                   25  ...         259.0   \n",
            "\n",
            "   ARRIVAL_DELAY  DIVERTED  CANCELLED  CANCELLATION_REASON  AIR_SYSTEM_DELAY  \\\n",
            "0          -22.0         0          0                  NaN               NaN   \n",
            "1           -9.0         0          0                  NaN               NaN   \n",
            "2            5.0         0          0                  NaN               NaN   \n",
            "3           -9.0         0          0                  NaN               NaN   \n",
            "4          -21.0         0          0                  NaN               NaN   \n",
            "\n",
            "   SECURITY_DELAY  AIRLINE_DELAY  LATE_AIRCRAFT_DELAY  WEATHER_DELAY  \n",
            "0             NaN            NaN                  NaN            NaN  \n",
            "1             NaN            NaN                  NaN            NaN  \n",
            "2             NaN            NaN                  NaN            NaN  \n",
            "3             NaN            NaN                  NaN            NaN  \n",
            "4             NaN            NaN                  NaN            NaN  \n",
            "\n",
            "[5 rows x 31 columns]\n"
          ]
        }
      ]
    },
    {
      "cell_type": "markdown",
      "source": [
        "¿Cuantos vuelos fueron al aeropuerto JFK?"
      ],
      "metadata": {
        "id": "qnx03j1hFm54"
      }
    },
    {
      "cell_type": "code",
      "source": [
        "vuelos_jfk = flights[flights['DESTINATION_AIRPORT'] == 'JFK'].shape[0]\n",
        "print(vuelos_jfk)"
      ],
      "metadata": {
        "id": "lmluYuizFnKD",
        "colab": {
          "base_uri": "https://localhost:8080/"
        },
        "outputId": "1ea8695a-5fc1-4ca8-dc68-649e3d044d68"
      },
      "execution_count": null,
      "outputs": [
        {
          "output_type": "stream",
          "name": "stdout",
          "text": [
            "93809\n"
          ]
        }
      ]
    },
    {
      "cell_type": "markdown",
      "source": [
        "¿Cuantos vuelos hizo la aerolinea AA?"
      ],
      "metadata": {
        "id": "dhyTy9BhFnXx"
      }
    },
    {
      "cell_type": "code",
      "source": [
        "aero_AA = flights[flights['AIRLINE'] == 'AA'].shape[0]\n",
        "print(aero_AA)"
      ],
      "metadata": {
        "id": "IupGmRDpFnsu",
        "colab": {
          "base_uri": "https://localhost:8080/"
        },
        "outputId": "05a784d9-b517-46c5-e191-47ee2ffcf0df"
      },
      "execution_count": null,
      "outputs": [
        {
          "output_type": "stream",
          "name": "stdout",
          "text": [
            "725984\n"
          ]
        }
      ]
    },
    {
      "cell_type": "markdown",
      "source": [
        "¿Que aerolineas (las primeras 5) tuvo la menor cantidad de vuelos con atrasos? Imprimirlas."
      ],
      "metadata": {
        "id": "kMP-JH_VEsMb"
      }
    },
    {
      "cell_type": "code",
      "source": [
        "vuelosDelay = flights[flights['ARRIVAL_DELAY'] > 0]\n",
        "atrasosAero = vuelosDelay['AIRLINE'].value_counts(ascending=True)\n",
        "menoresAtrasos = atrasosAero.head(5)\n",
        "print(\"Las 5 aerolíneas con menor cantidad de vuelos con atrasos: \", menoresAtrasos)"
      ],
      "metadata": {
        "id": "4-h0JTPuEsZk",
        "colab": {
          "base_uri": "https://localhost:8080/"
        },
        "outputId": "a6140404-5501-41ba-ef6b-f760f6fb27cd"
      },
      "execution_count": null,
      "outputs": [
        {
          "output_type": "stream",
          "name": "stdout",
          "text": [
            "Las 5 aerolíneas con menor cantidad de vuelos con atrasos:  AIRLINE\n",
            "VX    24180\n",
            "HA    30179\n",
            "F9    41232\n",
            "NK    56887\n",
            "AS    56953\n",
            "Name: count, dtype: int64\n"
          ]
        }
      ]
    },
    {
      "cell_type": "markdown",
      "source": [
        "¿Que aerolineas (las primeras 5) tuvo la mayor cantidad de vuelos con atrasos? Imprimirlas."
      ],
      "metadata": {
        "id": "AD51bj4AEs3L"
      }
    },
    {
      "cell_type": "code",
      "source": [
        "vuelosDelay = flights[flights['ARRIVAL_DELAY'] > 0]\n",
        "atrasosAero = vuelosDelay['AIRLINE'].value_counts()\n",
        "mayoresAtrasos = atrasosAero.nlargest(5)\n",
        "print(\"Las 5 aerolíneas con menor cantidad de vuelos con atrasos:\",mayoresAtrasos)"
      ],
      "metadata": {
        "id": "MiB6jHQ2Erqx",
        "colab": {
          "base_uri": "https://localhost:8080/"
        },
        "outputId": "a8d6e7cd-28cd-47f9-95e6-a0cbb964cc55"
      },
      "execution_count": null,
      "outputs": [
        {
          "output_type": "stream",
          "name": "stdout",
          "text": [
            "Las 5 aerolíneas con menor cantidad de vuelos con atrasos: AIRLINE\n",
            "WN    470767\n",
            "AA    252191\n",
            "DL    250840\n",
            "OO    222435\n",
            "EV    213217\n",
            "Name: count, dtype: int64\n"
          ]
        }
      ]
    },
    {
      "cell_type": "markdown",
      "source": [
        "Haga un resumen de las razones por la cual los vuelos se atrasan."
      ],
      "metadata": {
        "id": "DWQedGQvFYGP"
      }
    },
    {
      "cell_type": "code",
      "source": [
        "#Por seguridad, por problemas de sistema, clima, etc"
      ],
      "metadata": {
        "id": "AtPN0dv5FX3d"
      },
      "execution_count": null,
      "outputs": []
    },
    {
      "cell_type": "markdown",
      "source": [
        "Compruebe si hay columnas con celdas vacias."
      ],
      "metadata": {
        "id": "rMpR4FWdCKF2"
      }
    },
    {
      "cell_type": "code",
      "source": [
        "#Escribir el codigo para responder la pregunta en esta celda"
      ],
      "metadata": {
        "id": "S_SzBL9ZCKCV"
      },
      "execution_count": null,
      "outputs": []
    },
    {
      "cell_type": "markdown",
      "source": [
        "Haga una imputación de datos COMPLETA del dataframe. Pueden escojer cualquier estrategia y no necesariamente todas las columnas deben seguir la misma estrategia."
      ],
      "metadata": {
        "id": "1IH7wd3PCJfQ"
      }
    },
    {
      "cell_type": "code",
      "source": [
        "#Escribir el codigo para responder la pregunta en esta celda"
      ],
      "metadata": {
        "id": "PHmO-jb8CJaF"
      },
      "execution_count": null,
      "outputs": []
    }
  ]
}